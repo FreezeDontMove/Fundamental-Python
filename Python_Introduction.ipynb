{
  "nbformat": 4,
  "nbformat_minor": 0,
  "metadata": {
    "colab": {
      "name": "Python-Introduction.ipynb",
      "provenance": [],
      "include_colab_link": true
    },
    "kernelspec": {
      "name": "python3",
      "display_name": "Python 3"
    },
    "language_info": {
      "name": "python"
    }
  },
  "cells": [
    {
      "cell_type": "markdown",
      "metadata": {
        "id": "view-in-github",
        "colab_type": "text"
      },
      "source": [
        "<a href=\"https://colab.research.google.com/github/FreezeDontMove/Fundamental-Python/blob/master/Python_Introduction.ipynb\" target=\"_parent\"><img src=\"https://colab.research.google.com/assets/colab-badge.svg\" alt=\"Open In Colab\"/></a>"
      ]
    },
    {
      "cell_type": "markdown",
      "source": [
        "# Python"
      ],
      "metadata": {
        "id": "wsZ_fHiyMBRa"
      }
    },
    {
      "cell_type": "markdown",
      "source": [
        "## Why Learn Python\n",
        "* Python is popular\n",
        " * wild applications\n",
        " * active and helpful community \n",
        "* Python is easy (comparing with other programming language)\n"
      ],
      "metadata": {
        "id": "yVPFeqIkMG2M"
      }
    },
    {
      "cell_type": "markdown",
      "source": [
        "## How Learn Python\n",
        "* just like when we learn English\n",
        "  * reading, writing, ~~listening, speaking~~\n",
        "* or... like playing lego\n",
        "* understand, not memorize\n",
        "  * ~~remember~~ know, understand, apply\n",
        "* make use of Internet resources\n",
        " * Google search Engine\n",
        " * StackOverflow\n",
        " * [Leetcode](https://leetcode.com)\n",
        " * Github\n",
        " * 知乎 (?)\n",
        " * [my favorite book](https://openhome.cc/zh-tw/python/)\n",
        "* Only in this course\n",
        " * ask ask ask\n",
        "  * interrupt at anytime"
      ],
      "metadata": {
        "id": "bf1lZzCYMLsK"
      }
    },
    {
      "cell_type": "markdown",
      "source": [
        "## What to Learn (in this Course)\n",
        "* Variables, DataTypes\n",
        "* if...then, loop (for, while)\n",
        "* function\n",
        "* class\n",
        "* ..."
      ],
      "metadata": {
        "id": "fc9wSGQtMViE"
      }
    },
    {
      "cell_type": "markdown",
      "source": [
        "## What Tools to Use\n",
        "* in Course: Colab\n",
        " * use shortcuts\n",
        "* tutorial: IDE (e.g., VSCode)"
      ],
      "metadata": {
        "id": "rxnyxL8cMRSS"
      }
    },
    {
      "cell_type": "code",
      "source": [
        "print('This is an example of using colab')"
      ],
      "metadata": {
        "colab": {
          "base_uri": "https://localhost:8080/"
        },
        "id": "hXBa13HZRbVa",
        "outputId": "f50e2d78-f225-4b76-9c33-a2c3b8f197e2"
      },
      "execution_count": null,
      "outputs": [
        {
          "output_type": "stream",
          "name": "stdout",
          "text": [
            "This is an example of using colab\n"
          ]
        }
      ]
    }
  ]
}